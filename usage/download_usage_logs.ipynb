{
 "cells": [
  {
   "cell_type": "markdown",
   "metadata": {
    "application/vnd.databricks.v1+cell": {
     "cellMetadata": {},
     "inputWidgets": {},
     "nuid": "c6b98e03-4f30-413a-a9a1-031b24367177",
     "showTitle": false,
     "title": ""
    }
   },
   "source": [
    "\n",
    "# Tracking Databricks Units (DBU's)\n",
    "\n"
   ]
  },
  {
   "cell_type": "markdown",
   "metadata": {
    "application/vnd.databricks.v1+cell": {
     "cellMetadata": {},
     "inputWidgets": {},
     "nuid": "059751be-25c9-425f-a3c9-bda47093ddf4",
     "showTitle": false,
     "title": ""
    }
   },
   "source": [
    "\n",
    "## Option 1: System Tables (Best Option)\n",
    "\n",
    "[Instructions](https://docs.databricks.com/en/administration-guide/system-tables/index.html) \n",
    "\n",
    "[Sample Notebooks](https://www.databricks.com/resources/demos/tutorials/governance/system-tables)\n",
    "\n",
    "[Billable Usage Schema](https://docs.databricks.com/en/administration-guide/system-tables/billing.html)"
   ]
  },
  {
   "cell_type": "markdown",
   "metadata": {
    "application/vnd.databricks.v1+cell": {
     "cellMetadata": {},
     "inputWidgets": {},
     "nuid": "482faa58-4db1-4e3b-a7b7-4dba3c78fc49",
     "showTitle": false,
     "title": ""
    }
   },
   "source": [
    "\n",
    "## Option 2: View billable usage using the account console \n",
    "\n",
    "[Instructions](https://docs.databricks.com/en/administration-guide/account-settings/usage.html)\n",
    "\n",
    "This includes [instructions on downloading usage data](https://docs.databricks.com/en/administration-guide/account-settings/usage.html#usage-downloads).  "
   ]
  },
  {
   "cell_type": "markdown",
   "metadata": {
    "application/vnd.databricks.v1+cell": {
     "cellMetadata": {},
     "inputWidgets": {},
     "nuid": "9b06a6fd-0ee6-4ea6-95f9-11e6601102fb",
     "showTitle": false,
     "title": ""
    }
   },
   "source": [
    "\n",
    "## Option 3: Download usage logs with the Account API\n",
    "\n",
    "Follow the guided instructions below.  \n",
    "\n",
    "[GET /api/2.0/accounts/{account_id}/usage/download](https://docs.databricks.com/api/account/billableusage/download)\n",
    "\n",
    "To authenticate to the Account API, you can use Databricks OAuth tokens for [service principals](https://docs.databricks.com/dev-tools/service-principals.html) or an account admin’s username and password. [Databricks strongly recommends that you use OAuth tokens for service principals.](https://docs.databricks.com/dev-tools/authentication-oauth.html)\n",
    "\n"
   ]
  },
  {
   "cell_type": "markdown",
   "metadata": {
    "application/vnd.databricks.v1+cell": {
     "cellMetadata": {},
     "inputWidgets": {},
     "nuid": "b0c3b409-e71b-4944-9049-0cd1ff27192d",
     "showTitle": false,
     "title": ""
    }
   },
   "source": [
    "\n",
    "### Retrieve your Databricks Account ID\n",
    "\n",
    "[Instructions](https://docs.databricks.com/en/administration-guide/account-settings/index.html#locate-your-account-id)"
   ]
  },
  {
   "cell_type": "code",
   "execution_count": 0,
   "metadata": {
    "application/vnd.databricks.v1+cell": {
     "cellMetadata": {
      "byteLimit": 2048000,
      "rowLimit": 10000
     },
     "inputWidgets": {},
     "nuid": "68583be9-db18-42e4-bf53-7ce8b2802361",
     "showTitle": true,
     "title": "Run to activate widgets"
    }
   },
   "outputs": [],
   "source": [
    "from ipywidgets import Text, DatePicker, Checkbox, Layout\n",
    "style = {'description_width': 'initial'}\n",
    "layout = Layout(width='75%')"
   ]
  },
  {
   "cell_type": "code",
   "execution_count": 0,
   "metadata": {
    "application/vnd.databricks.v1+cell": {
     "cellMetadata": {
      "byteLimit": 2048000,
      "rowLimit": 10000
     },
     "inputWidgets": {},
     "nuid": "15c79bca-56a4-414e-8647-34186c199034",
     "showTitle": false,
     "title": ""
    }
   },
   "outputs": [],
   "source": [
    "accountId = Text(\n",
    "  value=\"xxxxxxxx-xxxx-xxxx-xxxx-xxxxxxxxxxxx\",\n",
    "  description=\"Databricks Account Id\",\n",
    "  disabled=False,\n",
    "  style=style, \n",
    "  layout=layout  \n",
    ")\n",
    "\n",
    "display(accountId)\n"
   ]
  },
  {
   "cell_type": "markdown",
   "metadata": {
    "application/vnd.databricks.v1+cell": {
     "cellMetadata": {},
     "inputWidgets": {},
     "nuid": "7644b1e7-c69d-441d-8b60-23303d77fd02",
     "showTitle": false,
     "title": ""
    }
   },
   "source": [
    "\n",
    "### Identify a scope to store secrets\n",
    "\n",
    "Option 1: Reuse an existing secret scope to store the secret\n",
    "\n",
    "Option 2: [Create a scope if one does not exist](https://docs.databricks.com/en/security/secrets/secret-scopes.html)"
   ]
  },
  {
   "cell_type": "code",
   "execution_count": 0,
   "metadata": {
    "application/vnd.databricks.v1+cell": {
     "cellMetadata": {
      "byteLimit": 2048000,
      "rowLimit": 10000
     },
     "inputWidgets": {},
     "nuid": "152f08b7-1ecc-4423-9c36-764d036a46df",
     "showTitle": false,
     "title": ""
    }
   },
   "outputs": [],
   "source": [
    "secretScope = Text(\n",
    "  value=\"x\",\n",
    "  description=\"Secret Scope\",\n",
    "  disabled=False,\n",
    "  style=style  \n",
    ")\n",
    "\n",
    "display(secretScope)"
   ]
  },
  {
   "cell_type": "markdown",
   "metadata": {
    "application/vnd.databricks.v1+cell": {
     "cellMetadata": {},
     "inputWidgets": {},
     "nuid": "afb5d82f-65f7-4728-b89b-b057aa33bcbe",
     "showTitle": false,
     "title": ""
    }
   },
   "source": [
    "\n",
    "### Create a Service Principal and OAuth credentials\n",
    "\n",
    "You must be an account admin to create a service principal and manage OAuth credentials for service principals. \n",
    "\n",
    "[Instructions](https://docs.databricks.com/en/dev-tools/authentication-oauth.html)\n",
    "\n",
    "The service principal will need to assume the role of Account Admin.  \n",
    "\n",
    "The secret will only be revealed once during creation. The client ID is the same as the service principal’s application ID.\n"
   ]
  },
  {
   "cell_type": "markdown",
   "metadata": {
    "application/vnd.databricks.v1+cell": {
     "cellMetadata": {},
     "inputWidgets": {},
     "nuid": "14bc2779-0f07-4536-972a-8cdd7cec455f",
     "showTitle": false,
     "title": ""
    }
   },
   "source": [
    "\n",
    "### Store OAuth Secret ID and Token into the Databricks Secret Vault\n",
    "\n",
    "[Instructions](https://docs.databricks.com/en/security/secrets/secrets.html)\n",
    "\n",
    "This step requires use of the [Databricks CLI](https://docs.databricks.com/en/dev-tools/cli/index.html). "
   ]
  },
  {
   "cell_type": "code",
   "execution_count": 0,
   "metadata": {
    "application/vnd.databricks.v1+cell": {
     "cellMetadata": {
      "byteLimit": 2048000,
      "rowLimit": 10000
     },
     "inputWidgets": {},
     "nuid": "3659b68e-c1b8-47f1-a80a-a676a8873db8",
     "showTitle": false,
     "title": ""
    }
   },
   "outputs": [],
   "source": [
    "spOAuthSecretId = Text(\n",
    "  value=\"observeServicePrincipalOAuthSecretId\",\n",
    "  description=\"Observe Service Principal OAuth Secret Id\",\n",
    "  disabled=False,\n",
    "  style=style,\n",
    "  layout=layout\n",
    ")\n",
    "\n",
    "spOAuthSecretToken = Text(\n",
    "  value=\"observeServicePrincipalOAuthSecretToken\",\n",
    "  description = \"Observe Service Principal OAuth Secret Token\",\n",
    "  disabled=False,\n",
    "  style=style,\n",
    "  layout=layout  \n",
    ")\n",
    "\n",
    "display(spOAuthSecretId, spOAuthSecretToken)"
   ]
  },
  {
   "cell_type": "markdown",
   "metadata": {
    "application/vnd.databricks.v1+cell": {
     "cellMetadata": {},
     "inputWidgets": {},
     "nuid": "de97d529-e2b5-4a4a-81d0-5053f4ef7ed3",
     "showTitle": false,
     "title": ""
    }
   },
   "source": [
    "\n",
    "### Select Start and End Date"
   ]
  },
  {
   "cell_type": "code",
   "execution_count": 0,
   "metadata": {
    "application/vnd.databricks.v1+cell": {
     "cellMetadata": {
      "byteLimit": 2048000,
      "rowLimit": 10000
     },
     "inputWidgets": {},
     "nuid": "97923a85-5cfc-499a-94ac-c77a82f4f3e2",
     "showTitle": false,
     "title": ""
    }
   },
   "outputs": [],
   "source": [
    "startDate = DatePicker(\n",
    "    description='Start Date',\n",
    "    disabled=False\n",
    ")\n",
    "\n",
    "endDate = DatePicker(\n",
    "    description='End Date',\n",
    "    disabled=False\n",
    ")\n",
    "\n",
    "display(startDate, endDate)"
   ]
  },
  {
   "cell_type": "code",
   "execution_count": 0,
   "metadata": {
    "application/vnd.databricks.v1+cell": {
     "cellMetadata": {
      "byteLimit": 2048000,
      "rowLimit": 10000
     },
     "inputWidgets": {},
     "nuid": "9d4354e7-473d-4e5f-a36b-b6054dfc6571",
     "showTitle": false,
     "title": ""
    }
   },
   "outputs": [],
   "source": [
    "import requests\n",
    "from requests.auth import HTTPBasicAuth\n",
    "\n",
    "from pyspark.sql import Row \n",
    "from pyspark.sql.functions import hash, col\n",
    "from datetime import date, datetime\n",
    "\n",
    "import csv"
   ]
  },
  {
   "cell_type": "code",
   "execution_count": 0,
   "metadata": {
    "application/vnd.databricks.v1+cell": {
     "cellMetadata": {
      "byteLimit": 2048000,
      "rowLimit": 10000
     },
     "inputWidgets": {},
     "nuid": "048be706-c7da-4757-ae78-538fb86a7736",
     "showTitle": false,
     "title": ""
    }
   },
   "outputs": [],
   "source": [
    "servicePrincipalOAuthSecretClientId = dbutils.secrets.get(secretScope.value, spOAuthSecretId.value)\n",
    "servicePrincipalOAuthSecretToken = dbutils.secrets.get(secretScope.value, spOAuthSecretToken.value)\n",
    "basic = HTTPBasicAuth(servicePrincipalOAuthSecretClientId, servicePrincipalOAuthSecretToken)\n",
    "\n",
    "url = \"https://accounts.cloud.databricks.com/oidc/accounts/{myAccountId}/v1/token\".format(myAccountId=accountId.value)\n",
    "\n",
    "data = {'grant_type': 'client_credentials', 'scope': 'all-apis'}\n",
    "headers = {'Content-Type': 'application/x-www-form-urlencoded'}"
   ]
  },
  {
   "cell_type": "code",
   "execution_count": 0,
   "metadata": {
    "application/vnd.databricks.v1+cell": {
     "cellMetadata": {
      "byteLimit": 2048000,
      "rowLimit": 10000
     },
     "inputWidgets": {},
     "nuid": "258714be-6632-420c-b666-d36629bca91f",
     "showTitle": true,
     "title": "Get OAuth token for Service Principal"
    }
   },
   "outputs": [],
   "source": [
    "r = requests.post(url, data=data, headers=headers, auth=basic)\n",
    "print(r.status_code)"
   ]
  },
  {
   "cell_type": "code",
   "execution_count": 0,
   "metadata": {
    "application/vnd.databricks.v1+cell": {
     "cellMetadata": {
      "byteLimit": 2048000,
      "rowLimit": 10000
     },
     "inputWidgets": {},
     "nuid": "84b224cc-9c8f-4288-a13c-6ead1a538283",
     "showTitle": false,
     "title": ""
    }
   },
   "outputs": [],
   "source": [
    "access_token = r.json()[\"access_token\"]"
   ]
  },
  {
   "cell_type": "code",
   "execution_count": 0,
   "metadata": {
    "application/vnd.databricks.v1+cell": {
     "cellMetadata": {
      "byteLimit": 2048000,
      "rowLimit": 10000
     },
     "inputWidgets": {},
     "nuid": "2483902c-753e-4d1d-9d75-49fdc0bc9430",
     "showTitle": false,
     "title": ""
    }
   },
   "outputs": [],
   "source": [
    "queryString = \"start_month={startMonth}&end_month={endMonth}&personal_data=false\".format(startMonth=str(startDate.value)[0:7], endMonth=str(endDate.value)[0:7])\n",
    "url = \"https://accounts.cloud.databricks.com/api/2.0/accounts/{myAccountId}/usage/download?{queryString}\".format(myAccountId=accountId.value, queryString=queryString)\n",
    "headers = {\"Authorization\": \"Bearer {accessToken}\".format(accessToken = access_token)}"
   ]
  },
  {
   "cell_type": "code",
   "execution_count": 0,
   "metadata": {
    "application/vnd.databricks.v1+cell": {
     "cellMetadata": {
      "byteLimit": 2048000,
      "rowLimit": 10000
     },
     "inputWidgets": {},
     "nuid": "a36e228d-c146-42af-8e47-0b8a30cabdfc",
     "showTitle": false,
     "title": ""
    }
   },
   "outputs": [],
   "source": [
    "r = requests.get(url, headers=headers)\n",
    "print(r.status_code)"
   ]
  },
  {
   "cell_type": "code",
   "execution_count": 0,
   "metadata": {
    "application/vnd.databricks.v1+cell": {
     "cellMetadata": {
      "byteLimit": 2048000,
      "rowLimit": 10000
     },
     "inputWidgets": {},
     "nuid": "eca3b8e2-aa80-4c28-9be6-ac36efde2c46",
     "showTitle": false,
     "title": ""
    }
   },
   "outputs": [],
   "source": [
    "out = r.text\n",
    "lines = out.split(\"\\n\")\n",
    "\n",
    "rows = []\n",
    "numberOfValidRows = len(lines) - 1 \n",
    "for line in lines[1:numberOfValidRows]:\n",
    "  csvRows = csv.reader([line], delimiter=',', quoting=csv.QUOTE_MINIMAL)\n",
    "  for item in csvRows:\n",
    "    row = Row(\n",
    "      workspaceId=item[0], \n",
    "      timestamp=item[1], \n",
    "      clusterId=item[2], \n",
    "      clusterName=item[3], \n",
    "      clusterNodeType=item[4],\n",
    "      clusterOwnerUserId=item[5],\n",
    "      clusterCustomTags=item[6],\n",
    "      sku=item[7],\n",
    "      dbus=item[8],\n",
    "      machineHours=item[9]\n",
    "    )\n",
    "  rows.append(row)\n",
    "\n",
    "df = spark.createDataFrame(x for x in rows)\n",
    "\n",
    "display(df)\n",
    "\n"
   ]
  },
  {
   "cell_type": "code",
   "execution_count": 0,
   "metadata": {
    "application/vnd.databricks.v1+cell": {
     "cellMetadata": {
      "byteLimit": 2048000,
      "rowLimit": 10000
     },
     "inputWidgets": {},
     "nuid": "becc1910-36de-4155-b4e6-31290e1c6c2b",
     "showTitle": false,
     "title": ""
    }
   },
   "outputs": [],
   "source": [
    "df.createOrReplaceTempView(\"usage\")"
   ]
  },
  {
   "cell_type": "code",
   "execution_count": 0,
   "metadata": {
    "application/vnd.databricks.v1+cell": {
     "cellMetadata": {
      "byteLimit": 2048000,
      "implicitDf": true,
      "rowLimit": 10000
     },
     "inputWidgets": {},
     "nuid": "059e1d70-9dfb-4aac-b8b0-60a9aaa3b066",
     "showTitle": false,
     "title": ""
    }
   },
   "outputs": [],
   "source": [
    "%sql\n",
    "\n",
    "SELECT date_format(date_trunc(\"DAY\", timestamp), \"yyyy-MM-dd\") as dt, sku, SUM(dbus) as dbus\n",
    "FROM usage\n",
    "GROUP BY ALL\n",
    "ORDER BY dt"
   ]
  },
  {
   "cell_type": "code",
   "execution_count": 0,
   "metadata": {
    "application/vnd.databricks.v1+cell": {
     "cellMetadata": {
      "byteLimit": 2048000,
      "rowLimit": 10000
     },
     "inputWidgets": {},
     "nuid": "2efe2b0f-f7e0-4a50-8282-4d656f7278bc",
     "showTitle": false,
     "title": ""
    }
   },
   "outputs": [],
   "source": [
    "# LIST PRICES SHOWN\n",
    "# https://www.databricks.com/product/pricing\n",
    "\n",
    "sku_df = spark.createDataFrame(\n",
    "    [\n",
    "        ('ENTERPRISE_ALL_PURPOSE_COMPUTE', 0.55),\n",
    "        ('ENTERPRISE_ALL_PURPOSE_COMPUTE_(PHOTON)', 0.55),\n",
    "        ('ENTERPRISE_JOBS_COMPUTE', 0.15),\n",
    "        ('ENTERPRISE_JOBS_COMPUTE_(PHOTON)', 0.15),\n",
    "        ('ENTERPRISE_DLT_CORE_COMPUTE',0.20),\n",
    "        ('ENTERPRISE_DLT_PRO_COMPUTE',0.25),\n",
    "        ('ENTERPRISE_DLT_ADVANCED_COMPUTE',0.36),\n",
    "        ('ENTERPRISE_DLT_CORE_COMPUTE_(PHOTON)',0.20),\n",
    "        ('ENTERPRISE_DLT_PRO_COMPUTE_(PHOTON)',0.25),\n",
    "        ('ENTERPRISE_DLT_ADVANCED_COMPUTE_(PHOTON)',0.36),\n",
    "        ('ENTERPRISE_SQL_COMPUTE',0.22),\n",
    "        ('ENTERPRISE_SQL_PRO_COMPUTE_US_EAST_N_VIRGINIA',0.55),\n",
    "        ('ENTERPRISE_SQL_PRO_COMPUTE_US_EAST_OHIO',0.55),\n",
    "        ('ENTERPRISE_SERVERLESS_SQL_COMPUTE_US_EAST_N_VIRGINIA',0.70),\n",
    "        ('ENTERPRISE_SERVERLESS_SQL_COMPUTE_US_EAST_OHIO',0.70),\n",
    "        ('ENTERPRISE_SERVERLESS_SQL_COMPUTE_US_WEST_OREGON',0.70),\n",
    "    ],\n",
    "    [\"sku_name\", \"price\"]\n",
    ")\n",
    "\n",
    "sku_df.createOrReplaceTempView(\"sku_prices\")"
   ]
  },
  {
   "cell_type": "code",
   "execution_count": 0,
   "metadata": {
    "application/vnd.databricks.v1+cell": {
     "cellMetadata": {
      "byteLimit": 2048000,
      "implicitDf": true,
      "rowLimit": 10000
     },
     "inputWidgets": {},
     "nuid": "fb9fed33-de5c-4897-9bea-4f6e10610b4d",
     "showTitle": false,
     "title": ""
    }
   },
   "outputs": [],
   "source": [
    "%sql\n",
    "\n",
    "SELECT *\n",
    "FROM sku_prices"
   ]
  },
  {
   "cell_type": "code",
   "execution_count": 0,
   "metadata": {
    "application/vnd.databricks.v1+cell": {
     "cellMetadata": {
      "byteLimit": 2048000,
      "implicitDf": true,
      "rowLimit": 10000
     },
     "inputWidgets": {},
     "nuid": "1cff67e4-720d-43e0-aac9-79efaa7478d0",
     "showTitle": false,
     "title": ""
    }
   },
   "outputs": [],
   "source": [
    "%sql\n",
    "\n",
    "SELECT \n",
    "  date_format(date_trunc(\"DAY\", usage.timestamp), \"yyyy-MM-dd\") as dt, \n",
    "  usage.sku, \n",
    "  SUM(usage.dbus) as dbus, \n",
    "  sku_prices.price, \n",
    "  (usage.dbus * sku_prices.price) as dollarDBU\n",
    "FROM usage LEFT JOIN sku_prices on usage.sku = sku_prices.sku_name\n",
    "GROUP BY ALL\n",
    "ORDER BY dollarDBU"
   ]
  }
 ],
 "metadata": {
  "application/vnd.databricks.v1+notebook": {
   "dashboards": [],
   "language": "python",
   "notebookMetadata": {
    "mostRecentlyExecutedCommandWithImplicitDF": {
     "commandId": 79297106446166,
     "dataframes": [
      "_sqldf"
     ]
    },
    "pythonIndentUnit": 2
   },
   "notebookName": "download_usage_logs",
   "widgets": {}
  }
 },
 "nbformat": 4,
 "nbformat_minor": 0
}
