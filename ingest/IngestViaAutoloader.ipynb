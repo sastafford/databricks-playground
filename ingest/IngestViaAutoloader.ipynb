{
 "cells": [
  {
   "cell_type": "code",
   "execution_count": 0,
   "metadata": {
    "application/vnd.databricks.v1+cell": {
     "cellMetadata": {
      "byteLimit": 2048000,
      "implicitDf": true,
      "rowLimit": 10000
     },
     "inputWidgets": {},
     "nuid": "a343716f-ff2f-4707-9bb8-7b147e102007",
     "showTitle": false,
     "title": ""
    }
   },
   "outputs": [],
   "source": [
    "%sql\n",
    "\n",
    "CREATE TABLE IF NOT EXISTS fake_records (name STRING, home_address STRING);\n",
    "\n",
    "ALTER TABLE fake_records\n",
    "SET TBLPROPERTIES (\n",
    "    'delta.minReaderVersion' = '2',\n",
    "    'delta.minWriterVersion' = '5',\n",
    "    'delta.columnMapping.mode' = 'name'\n",
    "  )"
   ]
  },
  {
   "cell_type": "code",
   "execution_count": 0,
   "metadata": {
    "application/vnd.databricks.v1+cell": {
     "cellMetadata": {
      "byteLimit": 2048000,
      "rowLimit": 10000
     },
     "inputWidgets": {},
     "nuid": "4f514f1b-959b-403f-9a59-9f3a1df7e9fc",
     "showTitle": false,
     "title": ""
    }
   },
   "outputs": [],
   "source": [
    "bronzeDF = (spark.readStream \n",
    "              .format(\"cloudFiles\") \n",
    "              .option(\"cloudFiles.format\", \"csv\") \n",
    "              .option(\"cloudFiles.maxFilesPerTrigger\", 1) \n",
    "              .option(\"header\", \"true\")\n",
    "              .schema(\"name string, home_address string\")\n",
    "              .load('/tmp/fake_records/raw/') \n",
    "             .writeStream \n",
    "               .format(\"delta\") \n",
    "               .trigger(once=True) \n",
    "               .option(\"checkpointLocation\", \"/tmp/fake_records/checkpoint/\") \n",
    "               .table(\"fake_records\")\n",
    "           )"
   ]
  },
  {
   "cell_type": "code",
   "execution_count": 0,
   "metadata": {
    "application/vnd.databricks.v1+cell": {
     "cellMetadata": {
      "byteLimit": 2048000,
      "implicitDf": true,
      "rowLimit": 10000
     },
     "inputWidgets": {},
     "nuid": "0cc3487a-aa96-4795-8694-e6a510085974",
     "showTitle": false,
     "title": ""
    }
   },
   "outputs": [],
   "source": [
    "%sql \n",
    "DESCRIBE EXTENDED fake_records"
   ]
  },
  {
   "cell_type": "code",
   "execution_count": 0,
   "metadata": {
    "application/vnd.databricks.v1+cell": {
     "cellMetadata": {
      "byteLimit": 2048000,
      "implicitDf": true,
      "rowLimit": 10000
     },
     "inputWidgets": {},
     "nuid": "376b66d0-2d07-416d-a262-983f0eb811df",
     "showTitle": false,
     "title": ""
    }
   },
   "outputs": [],
   "source": [
    "%sql\n",
    "\n",
    "SELECT *\n",
    "FROM fake_records"
   ]
  },
  {
   "cell_type": "code",
   "execution_count": 0,
   "metadata": {
    "application/vnd.databricks.v1+cell": {
     "cellMetadata": {
      "byteLimit": 2048000,
      "implicitDf": true,
      "rowLimit": 10000
     },
     "inputWidgets": {},
     "nuid": "69c212f2-4c19-4e91-986c-27f0ff25ba04",
     "showTitle": false,
     "title": ""
    }
   },
   "outputs": [],
   "source": [
    "%sql \n",
    "\n",
    "DROP TABLE fake_records"
   ]
  },
  {
   "cell_type": "code",
   "execution_count": 0,
   "metadata": {
    "application/vnd.databricks.v1+cell": {
     "cellMetadata": {
      "byteLimit": 2048000,
      "rowLimit": 10000
     },
     "inputWidgets": {},
     "nuid": "5d732b0d-8220-4fb7-b1b7-7cf7f5b3c0c6",
     "showTitle": false,
     "title": ""
    }
   },
   "outputs": [],
   "source": [
    "%fs\n",
    "\n",
    "rm -r /tmp/fake_records/schema"
   ]
  },
  {
   "cell_type": "code",
   "execution_count": 0,
   "metadata": {
    "application/vnd.databricks.v1+cell": {
     "cellMetadata": {
      "byteLimit": 2048000,
      "rowLimit": 10000
     },
     "inputWidgets": {},
     "nuid": "a7c4d358-19b7-4395-b1ee-ed1448e02bd6",
     "showTitle": false,
     "title": ""
    }
   },
   "outputs": [],
   "source": [
    "%fs\n",
    "\n",
    "rm -r /tmp/fake_records/checkpoint\n"
   ]
  },
  {
   "cell_type": "code",
   "execution_count": 0,
   "metadata": {
    "application/vnd.databricks.v1+cell": {
     "cellMetadata": {
      "byteLimit": 2048000,
      "rowLimit": 10000
     },
     "inputWidgets": {},
     "nuid": "e9ca3b7a-8130-4e81-a7e3-0e5227171e0d",
     "showTitle": false,
     "title": ""
    }
   },
   "outputs": [],
   "source": [
    "%fs\n",
    "\n",
    "ls /tmp/fake_records/schema"
   ]
  }
 ],
 "metadata": {
  "application/vnd.databricks.v1+notebook": {
   "dashboards": [],
   "language": "python",
   "notebookMetadata": {
    "mostRecentlyExecutedCommandWithImplicitDF": {
     "commandId": 3538949529877864,
     "dataframes": [
      "_sqldf"
     ]
    },
    "pythonIndentUnit": 2
   },
   "notebookName": "IngestViaAutoloader",
   "notebookOrigID": 3538949529877834,
   "widgets": {}
  }
 },
 "nbformat": 4,
 "nbformat_minor": 0
}
