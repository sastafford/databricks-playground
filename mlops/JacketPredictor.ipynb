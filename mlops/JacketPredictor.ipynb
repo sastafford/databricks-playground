{
 "cells": [
  {
   "cell_type": "markdown",
   "metadata": {
    "application/vnd.databricks.v1+cell": {
     "cellMetadata": {},
     "inputWidgets": {},
     "nuid": "6dd1372c-ef66-4677-8d9d-077e0445be37",
     "showTitle": true,
     "title": "Do I wear a jacket this morning? "
    }
   },
   "source": [
    "| Outside Temperature  | Age | Gender | Wear a Jacket?  | \n",
    "|---|---|---|---|\n",
    "| 30 degrees F  | 12 | M | Yes |\n",
    "| 35 degrees F  | 13 | F | Yes | \n",
    "| 25 degrees F  | 9  | M | No  |"
   ]
  },
  {
   "cell_type": "code",
   "execution_count": 0,
   "metadata": {
    "application/vnd.databricks.v1+cell": {
     "cellMetadata": {
      "byteLimit": 2048000,
      "rowLimit": 10000
     },
     "inputWidgets": {},
     "nuid": "f6d20b3a-e8fe-4fbe-9923-1757b4d9cea8",
     "showTitle": false,
     "title": ""
    }
   },
   "outputs": [],
   "source": [
    "from random import randint\n",
    "TRAIN_SET_LIMIT = 1000\n",
    "TRAIN_SET_COUNT = 100\n",
    "\n",
    "TRAIN_INPUT = list()\n",
    "TRAIN_OUTPUT = list()\n",
    "for i in range(TRAIN_SET_COUNT):\n",
    "    a = randint(0, TRAIN_SET_LIMIT)\n",
    "    b = randint(0, TRAIN_SET_LIMIT)\n",
    "    c = randint(0, TRAIN_SET_LIMIT)\n",
    "    op = a + (2*b) + (3*c)\n",
    "    TRAIN_INPUT.append([a, b, c])\n",
    "    TRAIN_OUTPUT.append(op)"
   ]
  },
  {
   "cell_type": "code",
   "execution_count": 0,
   "metadata": {
    "application/vnd.databricks.v1+cell": {
     "cellMetadata": {
      "byteLimit": 2048000,
      "rowLimit": 10000
     },
     "inputWidgets": {},
     "nuid": "a022296a-dcb4-47e2-a4d7-1ed4155eef27",
     "showTitle": false,
     "title": ""
    }
   },
   "outputs": [],
   "source": [
    "from sklearn.linear_model import LinearRegression\n",
    "\n",
    "predictor = LinearRegression(n_jobs=-1)\n",
    "predictor.fit(X=TRAIN_INPUT, y=TRAIN_OUTPUT)"
   ]
  },
  {
   "cell_type": "code",
   "execution_count": 0,
   "metadata": {
    "application/vnd.databricks.v1+cell": {
     "cellMetadata": {
      "byteLimit": 2048000,
      "rowLimit": 10000
     },
     "inputWidgets": {},
     "nuid": "734a2c29-589c-45be-bd61-1ea8e6098f97",
     "showTitle": false,
     "title": ""
    }
   },
   "outputs": [],
   "source": [
    "X_TEST = [[10, 20, 30]]\n",
    "outcome = predictor.predict(X=X_TEST)\n",
    "coefficients = predictor.coef_\n",
    "\n",
    "print('Outcome : {}\\nCoefficients : {}'.format(outcome, coefficients))"
   ]
  },
  {
   "cell_type": "markdown",
   "metadata": {
    "application/vnd.databricks.v1+cell": {
     "cellMetadata": {},
     "inputWidgets": {},
     "nuid": "208fa1c4-362b-48e4-9841-46d3ff76f158",
     "showTitle": false,
     "title": ""
    }
   },
   "source": [
    "Send this request payload to the endpoint\n",
    "\n",
    "```JSON\n",
    "{\n",
    "  \"dataframe_split\": {\n",
    "    \"index\": [0, 1, 2],\n",
    "    \"data\": [[10, 20, 30]]\n",
    "  }\n",
    "}\n",
    "\n",
    "```\n",
    "\n",
    "Should get this response...\n",
    "```JSON\n",
    "{\n",
    "  \"predictions\":[140,140,140]\n",
    "}\n",
    "```"
   ]
  }
 ],
 "metadata": {
  "application/vnd.databricks.v1+notebook": {
   "dashboards": [],
   "language": "python",
   "notebookMetadata": {
    "pythonIndentUnit": 2
   },
   "notebookName": "JacketPredictor",
   "notebookOrigID": 3538949530061990,
   "widgets": {}
  }
 },
 "nbformat": 4,
 "nbformat_minor": 0
}
